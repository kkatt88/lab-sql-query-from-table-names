{
  "cells": [
    {
      "cell_type": "markdown",
      "id": "00a57394-53dd-47cd-a5e7-6e7122bbb0f6",
      "metadata": {
        "id": "00a57394-53dd-47cd-a5e7-6e7122bbb0f6"
      },
      "source": [
        "# SQL query from table names"
      ]
    },
    {
      "cell_type": "markdown",
      "id": "86bc2813-763c-49f2-9f5d-e1f87a20556f",
      "metadata": {
        "id": "86bc2813-763c-49f2-9f5d-e1f87a20556f"
      },
      "source": [
        "In This notebook we are going to test if using just the name of the table, and a shord definition of its contect we can use a model like GTP3.5-Turbo to select which tables are necessary to create a SQL Order to answer the user petition."
      ]
    },
    {
      "cell_type": "code",
      "execution_count": 1,
      "id": "YQUuRH7V-Er0",
      "metadata": {
        "colab": {
          "base_uri": "https://localhost:8080/"
        },
        "id": "YQUuRH7V-Er0",
        "outputId": "8bce956d-92e0-4445-fb16-191806d2c26e"
      },
      "outputs": [
        {
          "name": "stdout",
          "output_type": "stream",
          "text": [
            "Collecting python-dotenv\n",
            "  Downloading python_dotenv-1.0.1-py3-none-any.whl.metadata (23 kB)\n",
            "Downloading python_dotenv-1.0.1-py3-none-any.whl (19 kB)\n",
            "Installing collected packages: python-dotenv\n",
            "Successfully installed python-dotenv-1.0.1\n"
          ]
        }
      ],
      "source": [
        "!pip install python-dotenv\n"
      ]
    },
    {
      "cell_type": "code",
      "execution_count": 2,
      "id": "7fbbdf5b-4d7f-4496-8f40-9d15ea46d023",
      "metadata": {
        "id": "7fbbdf5b-4d7f-4496-8f40-9d15ea46d023"
      },
      "outputs": [],
      "source": [
        "from openai import OpenAI\n",
        "import os\n",
        "from dotenv import load_dotenv, find_dotenv\n",
        "_ = load_dotenv(find_dotenv())\n",
        "\n",
        "OPENAI_API_KEY  = os.getenv('OPENAI_API_KEY')"
      ]
    },
    {
      "cell_type": "code",
      "execution_count": 3,
      "id": "e480bbfb-9a80-4ea6-b792-067e63ae3148",
      "metadata": {
        "id": "e480bbfb-9a80-4ea6-b792-067e63ae3148"
      },
      "outputs": [],
      "source": [
        "#Functio to call the model.\n",
        "def return_OAI(user_message):\n",
        "    client = OpenAI(\n",
        "    # This is the default and can be omitted\n",
        "    api_key=OPENAI_API_KEY,\n",
        ")\n",
        "    context = []\n",
        "    context.append({'role':'system', \"content\": user_message})\n",
        "\n",
        "    response = client.chat.completions.create(\n",
        "            model=\"gpt-4o\",\n",
        "            messages=context,\n",
        "            temperature=0,\n",
        "        )\n",
        "\n",
        "    return (response.choices[0].message.content)"
      ]
    },
    {
      "cell_type": "code",
      "execution_count": 6,
      "id": "6d5d2bdc-d822-4ed8-815e-b3f223730f15",
      "metadata": {
        "colab": {
          "base_uri": "https://localhost:8080/"
        },
        "id": "6d5d2bdc-d822-4ed8-815e-b3f223730f15",
        "outputId": "932bf6fd-d1fc-404c-ced7-9e992dd03c3f"
      },
      "outputs": [
        {
          "name": "stdout",
          "output_type": "stream",
          "text": [
            "       table                                         definition\n",
            "0  employees     Employee information, name, department, salary\n",
            "1     salary                       Salary details for each year\n",
            "2    studies  Educational studies, name of the institution, ...\n"
          ]
        }
      ],
      "source": [
        "#Definition of the tables.\n",
        "import pandas as pd\n",
        "\n",
        "# Define table metadata\n",
        "data = [\n",
        "    {'table': 'employees', 'definition': 'Employee information, name, department, salary'},\n",
        "    {'table': 'salary', 'definition': 'Salary details for each year'},\n",
        "    {'table': 'studies', 'definition': 'Educational studies, name of the institution, type of studies, level'}\n",
        "]\n",
        "\n",
        "df = pd.DataFrame(data)\n",
        "print(df)"
      ]
    },
    {
      "cell_type": "code",
      "execution_count": 7,
      "id": "009e681c-d95d-4c9c-b044-5bfd76e3ad95",
      "metadata": {
        "id": "009e681c-d95d-4c9c-b044-5bfd76e3ad95"
      },
      "outputs": [],
      "source": [
        "text_tables = '\\n'.join([f\"{row['table']}: {row['definition']}\" for index, row in df.iterrows()])"
      ]
    },
    {
      "cell_type": "code",
      "execution_count": 8,
      "id": "fe03ac25-8d02-4cd1-99a1-be4220c6fd2d",
      "metadata": {
        "colab": {
          "base_uri": "https://localhost:8080/"
        },
        "id": "fe03ac25-8d02-4cd1-99a1-be4220c6fd2d",
        "outputId": "f66e016d-9a07-49ba-83c3-aa8620425a84"
      },
      "outputs": [
        {
          "name": "stdout",
          "output_type": "stream",
          "text": [
            "employees: Employee information, name, department, salary\n",
            "salary: Salary details for each year\n",
            "studies: Educational studies, name of the institution, type of studies, level\n"
          ]
        }
      ],
      "source": [
        "print(text_tables)"
      ]
    },
    {
      "cell_type": "code",
      "execution_count": 48,
      "id": "c7e275ae-f20d-4134-b9b6-d8677dfb544c",
      "metadata": {
        "id": "c7e275ae-f20d-4134-b9b6-d8677dfb544c"
      },
      "outputs": [],
      "source": [
        "prompt_question_tables = \"\"\"Given the following tables and their content definitions:\n",
        "\n",
        "### Tables\n",
        "{tables}\n",
        "\n",
        "### SQL Table Definitions:\n",
        "```sql\n",
        "CREATE TABLE customer_orders (\n",
        "    order_id INTEGER PRIMARY KEY,\n",
        "    customer_name VARCHAR(50),\n",
        "    product_name VARCHAR(100),\n",
        "    order_date DATE,\n",
        "    quantity INTEGER,\n",
        "    total_price DECIMAL(10,2)\n",
        ");\n",
        "\n",
        "CREATE TABLE customers (\n",
        "    customer_id INTEGER PRIMARY KEY,\n",
        "    customer_name VARCHAR(50),\n",
        "    email VARCHAR(100),\n",
        "    city VARCHAR(50),\n",
        "    country VARCHAR(50)\n",
        ");\n",
        "\n",
        "CREATE TABLE products (\n",
        "    product_id INTEGER PRIMARY KEY,\n",
        "    product_name VARCHAR(100),\n",
        "    category VARCHAR(50),\n",
        "    price DECIMAL(10,2),\n",
        "    stock_quantity INTEGER\n",
        ");\n",
        "\n",
        "### Response Format:\n",
        "You MUST return ONLY a JSON object. Do NOT include explanations or any extra text.\n",
        "\n",
        "The response MUST be in the following format:\n",
        "\n",
        "```json\n",
        "{{\n",
        "  \"tables\": [\"table_1\", \"table_2\"]\n",
        "}}\n",
        "\"\"\"\n"
      ]
    },
    {
      "cell_type": "code",
      "execution_count": null,
      "id": "nDgItQWQI4CK",
      "metadata": {
        "id": "nDgItQWQI4CK"
      },
      "outputs": [],
      "source": []
    },
    {
      "cell_type": "code",
      "execution_count": 49,
      "id": "2Qc-vlLQDckW",
      "metadata": {
        "id": "2Qc-vlLQDckW"
      },
      "outputs": [],
      "source": [
        "pqt1 = prompt_question_tables.format(tables=formatted_tables, question=\"Find the average salary of employees in each department.\")"
      ]
    },
    {
      "cell_type": "code",
      "execution_count": 50,
      "id": "10d30f2b-6c23-4fd6-8038-840fba784cce",
      "metadata": {
        "colab": {
          "base_uri": "https://localhost:8080/"
        },
        "id": "10d30f2b-6c23-4fd6-8038-840fba784cce",
        "outputId": "5da9293e-fb21-4b1e-856e-290121442452",
        "scrolled": true
      },
      "outputs": [
        {
          "name": "stdout",
          "output_type": "stream",
          "text": [
            "```json\n",
            "{\n",
            "  \"tables\": [\"customer_orders\", \"customers\", \"products\"]\n",
            "}\n",
            "```\n"
          ]
        }
      ],
      "source": [
        "print(return_OAI(pqt1))"
      ]
    },
    {
      "cell_type": "code",
      "execution_count": 51,
      "id": "57e07083-be8f-4cd0-95bd-c4b909422c6b",
      "metadata": {
        "id": "57e07083-be8f-4cd0-95bd-c4b909422c6b"
      },
      "outputs": [],
      "source": [
        "pqt3 = prompt_question_tables.format(tables=text_tables,\n",
        "                                     question=\"Find employees who have a degree in Computer Science and their salary.\")"
      ]
    },
    {
      "cell_type": "code",
      "execution_count": 52,
      "id": "a0eeb79e-caf1-4f48-9897-168d95d2ae37",
      "metadata": {
        "colab": {
          "base_uri": "https://localhost:8080/"
        },
        "id": "a0eeb79e-caf1-4f48-9897-168d95d2ae37",
        "outputId": "a7c6e336-2ed0-4b33-97e4-93342035acef"
      },
      "outputs": [
        {
          "name": "stdout",
          "output_type": "stream",
          "text": [
            "```json\n",
            "{\n",
            "  \"tables\": [\"customer_orders\", \"customers\", \"products\"]\n",
            "}\n",
            "```\n"
          ]
        }
      ],
      "source": [
        "print(return_OAI(pqt3))"
      ]
    },
    {
      "cell_type": "markdown",
      "id": "tg28AfG_KOEk",
      "metadata": {
        "id": "tg28AfG_KOEk"
      },
      "source": [
        "# My reflections:\n",
        "\n",
        "I see that through giving it examples of tables and in the ### reponse explicity tell it to output the answer in Json. At first I did not explicity tell it to output JSON and it failed to answer correctly."
      ]
    },
    {
      "cell_type": "markdown",
      "id": "321bb9a2-4937-4e9a-a31b-7049cb8f5aa3",
      "metadata": {
        "id": "321bb9a2-4937-4e9a-a31b-7049cb8f5aa3"
      },
      "source": [
        "# Exercise\n",
        " - Complete the prompts similar to what we did in class.\n",
        "     - Try a few versions if you have time\n",
        "     - Be creative\n",
        " - Write a one page report summarizing your findings.\n",
        "     - Were there variations that didn't work well? i.e., where GPT either hallucinated or wrong\n",
        " - What did you learn?"
      ]
    }
  ],
  "metadata": {
    "accelerator": "GPU",
    "colab": {
      "gpuType": "T4",
      "provenance": []
    },
    "kernelspec": {
      "display_name": "Python 3",
      "name": "python3"
    },
    "language_info": {
      "codemirror_mode": {
        "name": "ipython",
        "version": 3
      },
      "file_extension": ".py",
      "mimetype": "text/x-python",
      "name": "python",
      "nbconvert_exporter": "python",
      "pygments_lexer": "ipython3",
      "version": "3.11.8"
    }
  },
  "nbformat": 4,
  "nbformat_minor": 5
}
